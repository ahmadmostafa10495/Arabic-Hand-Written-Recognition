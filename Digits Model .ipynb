{
 "cells": [
  {
   "cell_type": "markdown",
   "metadata": {},
   "source": [
    "## MNIST Handwritten Digit Recognition Problem with Keras \n",
    "#### Image size (32*32)\n",
    "#### Data size (60,000  Train) and (10,000 Test)"
   ]
  },
  {
   "cell_type": "code",
   "execution_count": 1,
   "metadata": {},
   "outputs": [
    {
     "name": "stderr",
     "output_type": "stream",
     "text": [
      "Using TensorFlow backend.\n"
     ]
    }
   ],
   "source": [
    "from keras.models import Sequential \n",
    "from keras.layers import Dense\n",
    "from keras.layers import Dropout\n",
    "from keras.layers import Flatten\n",
    "from keras.layers.convolutional import Conv2D\n",
    "from keras.layers.convolutional import MaxPooling2D\n",
    "from keras.utils import np_utils\n",
    "from keras.datasets import reuters\n",
    "from keras import models\n",
    "from keras import layers\n",
    "from keras.datasets import mnist\n",
    "\n",
    "from keras import backend as K\n",
    "K.set_image_dim_ordering('th')\n",
    "\n",
    "import matplotlib.pyplot as plt\n",
    "import numpy as np\n",
    "import cv2\n",
    "import os\n",
    "\n",
    "from keras.models import model_from_json\n",
    "\n"
   ]
  },
  {
   "cell_type": "markdown",
   "metadata": {},
   "source": [
    "## CNN Arch"
   ]
  },
  {
   "cell_type": "code",
   "execution_count": 2,
   "metadata": {},
   "outputs": [
    {
     "name": "stdout",
     "output_type": "stream",
     "text": [
      "(60000, 28, 28)\n"
     ]
    }
   ],
   "source": [
    "# load data\n",
    "(x_train, y_train), (x_test, y_test) = mnist.load_data()\n",
    "print(x_train.shape)"
   ]
  },
  {
   "cell_type": "code",
   "execution_count": 3,
   "metadata": {},
   "outputs": [
    {
     "name": "stdout",
     "output_type": "stream",
     "text": [
      "(60000, 32, 32)\n"
     ]
    }
   ],
   "source": [
    "#Resize to 32*32\n",
    "x_train_new = []\n",
    "x_test_new = []\n",
    "\n",
    "# Train\n",
    "for i in range (x_train.shape[0]):\n",
    "    x_train_new.append(cv2.resize((x_train[i]),(32,32)))\n",
    "\n",
    "x_train_new = np.array(x_train_new)\n",
    "\n",
    "\n",
    "# Test\n",
    "for i in range (x_test.shape[0]):\n",
    "    x_test_new.append(cv2.resize((x_test[i]),(32,32)))\n",
    "\n",
    "x_test_new = np.array(x_test_new)\n",
    "\n",
    "\n",
    "\n",
    "print(x_train_new.shape)"
   ]
  },
  {
   "cell_type": "code",
   "execution_count": 4,
   "metadata": {},
   "outputs": [],
   "source": [
    "#convert to binary\n",
    "x_train_new = x_train_new > (130)\n",
    "x_train_new = 1 - x_train_new\n",
    "\n",
    "x_test_new = x_test_new > (130)\n",
    "x_test_new = 1 - x_test_new"
   ]
  },
  {
   "cell_type": "code",
   "execution_count": 5,
   "metadata": {},
   "outputs": [
    {
     "data": {
      "image/png": "[encoded data removed]",
      "text/plain": [
       "<Figure size 432x288 with 4 Axes>"
      ]
     },
     "metadata": {
      "needs_background": "light"
     },
     "output_type": "display_data"
    }
   ],
   "source": [
    "# plot 4 images as gray scale\n",
    "plt.subplot(221)\n",
    "plt.imshow(x_train_new[0], cmap=plt.get_cmap('gray'))\n",
    "plt.subplot(222)\n",
    "plt.imshow(x_train_new[1], cmap=plt.get_cmap('gray'))\n",
    "plt.subplot(223)\n",
    "plt.imshow(x_train_new[2], cmap=plt.get_cmap('gray'))\n",
    "plt.subplot(224)\n",
    "plt.imshow(x_test_new[3], cmap=plt.get_cmap('gray'))\n",
    "# show the plot\n",
    "plt.show()"
   ]
  },
  {
   "cell_type": "code",
   "execution_count": 6,
   "metadata": {},
   "outputs": [
    {
     "name": "stdout",
     "output_type": "stream",
     "text": [
      "(60000, 32, 32, 1)\n"
     ]
    }
   ],
   "source": [
    "\n",
    "# reshape to be [samples][pixels][width][height]\n",
    "X_train = x_train_new.reshape(x_train_new.shape[0], 32, 32,1).astype('float32')\n",
    "X_test = x_test_new.reshape(x_test_new.shape[0],32, 32,1).astype('float32')\n",
    "\n",
    "\n",
    "# one hot encode outputs\n",
    "y_train = np_utils.to_categorical(y_train)\n",
    "y_test = np_utils.to_categorical(y_test)\n",
    "num_classes = y_test.shape[1]\n",
    "\n",
    "print(X_train.shape)"
   ]
  },
  {
   "cell_type": "code",
   "execution_count": 7,
   "metadata": {},
   "outputs": [],
   "source": [
    "# define the larger model\n",
    "def cnn_model():\n",
    "    # create model\n",
    "    model = Sequential()\n",
    "    model.add(Conv2D(30, (5, 5), input_shape=(32, 32,1), activation='relu',data_format=\"channels_last\"))\n",
    "    model.add(MaxPooling2D(pool_size=(2, 2)))\n",
    "    model.add(Conv2D(15, (3, 3), activation='relu'))\n",
    "    model.add(MaxPooling2D(pool_size=(2, 2)))\n",
    "    model.add(Dropout(0.2))\n",
    "    model.add(Flatten())\n",
    "    model.add(Dense(128, activation='relu'))\n",
    "    model.add(Dense(50, activation='relu'))\n",
    "    model.add(Dense(num_classes, activation='softmax'))\n",
    "    # Compile model\n",
    "    model.compile(loss='categorical_crossentropy', optimizer='adam', metrics=['accuracy'])\n",
    "    return model"
   ]
  },
  {
   "cell_type": "code",
   "execution_count": 8,
   "metadata": {},
   "outputs": [
    {
     "name": "stdout",
     "output_type": "stream",
     "text": [
      "WARNING:tensorflow:From C:\\Users\\dell\\.conda\\envs\\tfp3.6\\lib\\site-packages\\tensorflow\\python\\framework\\op_def_library.py:263: colocate_with (from tensorflow.python.framework.ops) is deprecated and will be removed in a future version.\n",
      "Instructions for updating:\n",
      "Colocations handled automatically by placer.\n",
      "WARNING:tensorflow:From C:\\Users\\dell\\.conda\\envs\\tfp3.6\\lib\\site-packages\\keras\\backend\\tensorflow_backend.py:3445: calling dropout (from tensorflow.python.ops.nn_ops) with keep_prob is deprecated and will be removed in a future version.\n",
      "Instructions for updating:\n",
      "Please use `rate` instead of `keep_prob`. Rate should be set to `rate = 1 - keep_prob`.\n",
      "WARNING:tensorflow:From C:\\Users\\dell\\.conda\\envs\\tfp3.6\\lib\\site-packages\\tensorflow\\python\\ops\\math_ops.py:3066: to_int32 (from tensorflow.python.ops.math_ops) is deprecated and will be removed in a future version.\n",
      "Instructions for updating:\n",
      "Use tf.cast instead.\n",
      "Train on 60000 samples, validate on 10000 samples\n",
      "Epoch 1/15\n",
      "60000/60000 [==============================] - 84s 1ms/step - loss: 0.5527 - acc: 0.8284 - val_loss: 0.1752 - val_acc: 0.9490\n",
      "Epoch 2/15\n",
      "60000/60000 [==============================] - 82s 1ms/step - loss: 0.1860 - acc: 0.9428 - val_loss: 0.1123 - val_acc: 0.9657\n",
      "Epoch 3/15\n",
      "60000/60000 [==============================] - 82s 1ms/step - loss: 0.1303 - acc: 0.9593 - val_loss: 0.0976 - val_acc: 0.9698\n",
      "Epoch 4/15\n",
      "60000/60000 [==============================] - 82s 1ms/step - loss: 0.1119 - acc: 0.9651 - val_loss: 0.0750 - val_acc: 0.9757\n",
      "Epoch 5/15\n",
      "60000/60000 [==============================] - 81s 1ms/step - loss: 0.0932 - acc: 0.9710 - val_loss: 0.0792 - val_acc: 0.9750\n",
      "Epoch 6/15\n",
      "60000/60000 [==============================] - 82s 1ms/step - loss: 0.0816 - acc: 0.9743 - val_loss: 0.0636 - val_acc: 0.9802\n",
      "Epoch 7/15\n",
      "60000/60000 [==============================] - 82s 1ms/step - loss: 0.0706 - acc: 0.9779 - val_loss: 0.0546 - val_acc: 0.9820\n",
      "Epoch 8/15\n",
      "60000/60000 [==============================] - 82s 1ms/step - loss: 0.0665 - acc: 0.9785 - val_loss: 0.0543 - val_acc: 0.9830\n",
      "Epoch 9/15\n",
      "60000/60000 [==============================] - 83s 1ms/step - loss: 0.0606 - acc: 0.9801 - val_loss: 0.0550 - val_acc: 0.9829\n",
      "Epoch 10/15\n",
      "60000/60000 [==============================] - 83s 1ms/step - loss: 0.0533 - acc: 0.9829 - val_loss: 0.0494 - val_acc: 0.9844\n",
      "Epoch 11/15\n",
      "60000/60000 [==============================] - 81s 1ms/step - loss: 0.0487 - acc: 0.9840 - val_loss: 0.0539 - val_acc: 0.9835\n",
      "Epoch 12/15\n",
      "60000/60000 [==============================] - 81s 1ms/step - loss: 0.0487 - acc: 0.9839 - val_loss: 0.0510 - val_acc: 0.9845\n",
      "Epoch 13/15\n",
      "60000/60000 [==============================] - 82s 1ms/step - loss: 0.0445 - acc: 0.9852 - val_loss: 0.0517 - val_acc: 0.9839\n",
      "Epoch 14/15\n",
      "60000/60000 [==============================] - 82s 1ms/step - loss: 0.0421 - acc: 0.9859 - val_loss: 0.0465 - val_acc: 0.9852\n",
      "Epoch 15/15\n",
      "60000/60000 [==============================] - 83s 1ms/step - loss: 0.0389 - acc: 0.9874 - val_loss: 0.0483 - val_acc: 0.9855\n",
      "Large CNN Error: 1.45%\n"
     ]
    }
   ],
   "source": [
    "# build the model\n",
    "model = cnn_model()\n",
    "# Fit the model\n",
    "model.fit(X_train, y_train, validation_data=(X_test, y_test), epochs=15, batch_size=200)\n",
    "# Final evaluation of the model\n",
    "scores = model.evaluate(X_test, y_test, verbose=0)\n",
    "print(\"Large CNN Error: %.2f%%\" % (100-scores[1]*100))"
   ]
  },
  {
   "cell_type": "code",
   "execution_count": 13,
   "metadata": {},
   "outputs": [
    {
     "name": "stdout",
     "output_type": "stream",
     "text": [
      "Train on 60000 samples, validate on 10000 samples\n",
      "Epoch 1/10\n",
      "60000/60000 [==============================] - 81s 1ms/step - loss: 0.0369 - acc: 0.9881 - val_loss: 0.0483 - val_acc: 0.9854\n",
      "Epoch 2/10\n",
      "60000/60000 [==============================] - 82s 1ms/step - loss: 0.0352 - acc: 0.9885 - val_loss: 0.0478 - val_acc: 0.9860\n",
      "Epoch 3/10\n",
      "60000/60000 [==============================] - 82s 1ms/step - loss: 0.0322 - acc: 0.9895 - val_loss: 0.0479 - val_acc: 0.9855\n",
      "Epoch 4/10\n",
      "60000/60000 [==============================] - 81s 1ms/step - loss: 0.0311 - acc: 0.9895 - val_loss: 0.0429 - val_acc: 0.9863\n",
      "Epoch 5/10\n",
      "60000/60000 [==============================] - 81s 1ms/step - loss: 0.0312 - acc: 0.9899 - val_loss: 0.0491 - val_acc: 0.9858\n",
      "Epoch 6/10\n",
      "60000/60000 [==============================] - 82s 1ms/step - loss: 0.0291 - acc: 0.9902 - val_loss: 0.0506 - val_acc: 0.9849\n",
      "Epoch 7/10\n",
      "60000/60000 [==============================] - 82s 1ms/step - loss: 0.0257 - acc: 0.9911 - val_loss: 0.0483 - val_acc: 0.9861\n",
      "Epoch 8/10\n",
      "60000/60000 [==============================] - 81s 1ms/step - loss: 0.0256 - acc: 0.9911 - val_loss: 0.0495 - val_acc: 0.9850\n",
      "Epoch 9/10\n",
      "60000/60000 [==============================] - 82s 1ms/step - loss: 0.0248 - acc: 0.9918 - val_loss: 0.0459 - val_acc: 0.9865\n",
      "Epoch 10/10\n",
      "60000/60000 [==============================] - 85s 1ms/step - loss: 0.0244 - acc: 0.9920 - val_loss: 0.0432 - val_acc: 0.9876\n"
     ]
    },
    {
     "data": {
      "text/plain": [
       "<keras.callbacks.History at 0x1fd2e57f9e8>"
      ]
     },
     "execution_count": 13,
     "metadata": {},
     "output_type": "execute_result"
    }
   ],
   "source": [
    "model.fit(X_train, y_train, validation_data=(X_test, y_test), epochs=10, batch_size=200)"
   ]
  },
  {
   "cell_type": "code",
   "execution_count": 14,
   "metadata": {},
   "outputs": [
    {
     "name": "stdout",
     "output_type": "stream",
     "text": [
      "[0]\n"
     ]
    },
    {
     "data": {
      "image/png": "[encoded data removed]",
      "text/plain": [
       "<Figure size 432x288 with 1 Axes>"
      ]
     },
     "metadata": {
      "needs_background": "light"
     },
     "output_type": "display_data"
    }
   ],
   "source": [
    "index = 3 # of the sample to be tested\n",
    "y = model.predict_classes(X_test[index:index+1])\n",
    "plt.imshow(x_test[index], cmap=plt.get_cmap('gray'))\n",
    "print(y)"
   ]
  },
  {
   "cell_type": "markdown",
   "metadata": {},
   "source": [
    "## Save the model weights"
   ]
  },
  {
   "cell_type": "code",
   "execution_count": 16,
   "metadata": {},
   "outputs": [],
   "source": [
    "model.save('new_digits_model.h5')"
   ]
  },
  {
   "cell_type": "markdown",
   "metadata": {},
   "source": [
    "## Start running cells from here "
   ]
  },
  {
   "cell_type": "code",
   "execution_count": 82,
   "metadata": {},
   "outputs": [
    {
     "name": "stdout",
     "output_type": "stream",
     "text": [
      "Loaded model from disk\n"
     ]
    }
   ],
   "source": [
    " \n",
    "# load json and create model\n",
    "json_file = open('model.json', 'r')\n",
    "loaded_model_json = json_file.read()\n",
    "json_file.close()\n",
    "loaded_model = model_from_json(loaded_model_json)\n",
    "# load weights into new model\n",
    "loaded_model.load_weights(\"model.h5\")\n",
    "print(\"Loaded model from disk\")"
   ]
  },
  {
   "cell_type": "code",
   "execution_count": 83,
   "metadata": {},
   "outputs": [
    {
     "data": {
      "text/plain": [
       "<matplotlib.image.AxesImage at 0x2758751cda0>"
      ]
     },
     "execution_count": 83,
     "metadata": {},
     "output_type": "execute_result"
    },
    {
     "data": {
      "image/png": "[encoded data removed]",
      "text/plain": [
       "<Figure size 432x288 with 1 Axes>"
      ]
     },
     "metadata": {
      "needs_background": "light"
     },
     "output_type": "display_data"
    }
   ],
   "source": [
    "img = cv2.imread('11.png',1)\n",
    "\n",
    "# Convert to Gray\n",
    "img = cv2.cvtColor(img, cv2.COLOR_BGR2GRAY)\n",
    "\n",
    "# resize image\n",
    "img = cv2.resize(img, (32,32), interpolation = cv2.INTER_AREA)\n",
    "\n",
    "plt.imshow(img, cmap=plt.get_cmap('gray'))\n"
   ]
  },
  {
   "cell_type": "code",
   "execution_count": 84,
   "metadata": {},
   "outputs": [
    {
     "data": {
      "text/plain": [
       "<matplotlib.image.AxesImage at 0x2758757b828>"
      ]
     },
     "execution_count": 84,
     "metadata": {},
     "output_type": "execute_result"
    },
    {
     "data": {
      "image/png": "[encoded data removed]",
      "text/plain": [
       "<Figure size 432x288 with 1 Axes>"
      ]
     },
     "metadata": {
      "needs_background": "light"
     },
     "output_type": "display_data"
    }
   ],
   "source": [
    "# This part to convert background to black only\n",
    "new_img = img > (130)\n",
    "plt.imshow(new_img, cmap=plt.get_cmap('gray'))"
   ]
  },
  {
   "cell_type": "code",
   "execution_count": 85,
   "metadata": {},
   "outputs": [
    {
     "name": "stdout",
     "output_type": "stream",
     "text": [
      "[5]\n"
     ]
    }
   ],
   "source": [
    "img = new_img.reshape(1, 32, 32,1).astype('float32')\n",
    "y = model.predict_classes(img)\n",
    "print(y)"
   ]
  },
  {
   "cell_type": "code",
   "execution_count": null,
   "metadata": {},
   "outputs": [],
   "source": []
  },
  {
   "cell_type": "code",
   "execution_count": null,
   "metadata": {},
   "outputs": [],
   "source": []
  }
 ],
 "metadata": {
  "kernelspec": {
   "display_name": "Python 3",
   "language": "python",
   "name": "python3"
  },
  "language_info": {
   "codemirror_mode": {
    "name": "ipython",
    "version": 3
   },
   "file_extension": ".py",
   "mimetype": "text/x-python",
   "name": "python",
   "nbconvert_exporter": "python",
   "pygments_lexer": "ipython3",
   "version": "3.6.8"
  }
 },
 "nbformat": 4,
 "nbformat_minor": 2
}
