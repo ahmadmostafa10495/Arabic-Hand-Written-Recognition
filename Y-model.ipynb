{
 "cells": [
  {
   "cell_type": "markdown",
   "metadata": {},
   "source": [
    "## Imports "
   ]
  },
  {
   "cell_type": "code",
   "execution_count": 303,
   "metadata": {},
   "outputs": [],
   "source": [
    "from keras.models import Sequential \n",
    "from keras.layers import Dense\n",
    "from keras.layers import Dropout\n",
    "from keras.layers import Activation\n",
    "from keras.layers import Flatten\n",
    "from keras.layers import BatchNormalization\n",
    "from keras.layers.convolutional import Conv2D\n",
    "from keras.layers.convolutional import MaxPooling2D\n",
    "from keras.utils import np_utils\n",
    "from keras.datasets import reuters\n",
    "from keras import models\n",
    "from keras import layers\n",
    "import matplotlib.pyplot as plt\n",
    "import numpy as np\n",
    "import cv2\n",
    "import os\n",
    " \n",
    "from keras.models import model_from_json\n",
    "    \n",
    "from keras import backend as K\n",
    "K.set_image_dim_ordering('th')\n",
    "\n"
   ]
  },
  {
   "cell_type": "markdown",
   "metadata": {},
   "source": [
    "### Read the train and test Data \n",
    "#### Image size -> Example size (32*32)\n",
    "#### Data size (13440  Train and Validation) and (3360 Test)"
   ]
  },
  {
   "cell_type": "code",
   "execution_count": 304,
   "metadata": {},
   "outputs": [
    {
     "name": "stdout",
     "output_type": "stream",
     "text": [
      "[  0.   0.   0.   0.   0.   0.   0.   0.  58. 141. 234. 255. 255. 236.\n",
      " 178. 139. 132.  97.  33.  20.  17.  15.  14. 105. 255. 162.   0.   0.\n",
      "   0.   0.   0.   0.]\n"
     ]
    }
   ],
   "source": [
    "#Read the training and test Data using any library from the folder or the csv file\n",
    "\n",
    "# load Train and Test Data \n",
    "\n",
    "# Train ===========================\n",
    "x_train_file = open('Arabic-Handwritten-Characters-Dataset-master\\csvTrainImages 13440x1024.csv', 'rb')\n",
    "x_train_data = np.loadtxt(x_train_file, delimiter=\",\")  # shape (13440,1024)\n",
    "\n",
    "\n",
    "\n",
    "y_train_file = open('Arabic-Handwritten-Characters-Dataset-master\\csvTrainLabel 13440x1.csv', 'rb')\n",
    "y_train_data = np.loadtxt(y_train_file, delimiter=\",\") # shape (13440,)\n",
    "\n",
    "\n",
    "# Test ===========================\n",
    "x_test_file = open('Arabic-Handwritten-Characters-Dataset-master\\csvTestImages 3360x1024.csv', 'rb')\n",
    "x_test_data = np.loadtxt(x_test_file, delimiter=\",\") # shape (3360,1024)\n",
    "\n",
    "\n",
    "y_test_file = open('Arabic-Handwritten-Characters-Dataset-master\\csvTestLabel 3360x1.csv', 'rb')\n",
    "y_test_data = np.loadtxt(y_test_file, delimiter=\",\") # shape (3360,)\n",
    "\n",
    "x_train_img = x_train_data.reshape(x_train_data.shape[0], 32, 32).astype('float32') \n",
    "x_test_img = x_test_data.reshape(x_test_data.shape[0], 32, 32).astype('float32') \n",
    "\n",
    "x_train_img = np.rot90(x_train_img, 3, (1,2)) # Rotate by 290 deg \n",
    "x_test_img = np.rot90(x_test_img, 3, (1,2)) # Rotate by 290 deg \n",
    "\n",
    "\n",
    "\n"
   ]
  },
  {
   "cell_type": "markdown",
   "metadata": {},
   "source": [
    "## Check sample of the training and testing images"
   ]
  },
  {
   "cell_type": "code",
   "execution_count": 305,
   "metadata": {},
   "outputs": [
    {
     "data": {
      "text/plain": [
       "<matplotlib.image.AxesImage at 0x226928dcef0>"
      ]
     },
     "execution_count": 305,
     "metadata": {},
     "output_type": "execute_result"
    },
    {
     "data": {
      "image/png": "[encoded data removed]",
      "text/plain": [
       "<Figure size 432x288 with 4 Axes>"
      ]
     },
     "metadata": {
      "needs_background": "light"
     },
     "output_type": "display_data"
    }
   ],
   "source": [
    "plt.subplot(221)\n",
    "plt.imshow(x_train_img[10], cmap=plt.get_cmap('gray'))\n",
    "plt.subplot(222)\n",
    "plt.imshow(x_train_img[11], cmap=plt.get_cmap('gray'))\n",
    "plt.subplot(223)\n",
    "plt.imshow(x_test_img[0], cmap=plt.get_cmap('gray'))\n",
    "plt.subplot(224)\n",
    "plt.imshow(x_test_img[3], cmap=plt.get_cmap('gray'))"
   ]
  },
  {
   "cell_type": "code",
   "execution_count": 11,
   "metadata": {},
   "outputs": [
    {
     "name": "stdout",
     "output_type": "stream",
     "text": [
      "2.0\n"
     ]
    }
   ],
   "source": [
    "print(y_test_data[3])"
   ]
  },
  {
   "cell_type": "markdown",
   "metadata": {},
   "source": [
    "## Pre-Processing"
   ]
  },
  {
   "cell_type": "code",
   "execution_count": 12,
   "metadata": {},
   "outputs": [
    {
     "name": "stdout",
     "output_type": "stream",
     "text": [
      "(13440, 1, 32, 32)\n"
     ]
    }
   ],
   "source": [
    "# Reshape to be suitable for the cnn\n",
    "x_train = x_train_img.reshape(x_train_img.shape[0], 1, 32, 32).astype('float32')\n",
    "x_test = x_test_img.reshape(x_test_img.shape[0], 1, 32, 32).astype('float32')\n",
    "\n",
    "\n",
    "# normalize inputs from 0-255 to 0-1\n",
    "x_train = x_train / 255\n",
    "x_test = x_test / 255\n",
    "\n",
    "\n",
    "\n",
    "# one hot encode outputs\n",
    "y_train = np_utils.to_categorical(y_train_data)\n",
    "y_test = np_utils.to_categorical(y_test_data)\n",
    "num_classes = y_test.shape[1]\n",
    "\n",
    "print(x_train.shape)\n"
   ]
  },
  {
   "cell_type": "markdown",
   "metadata": {},
   "source": [
    "## CNN Model , Compile , Fit, and Evaluate"
   ]
  },
  {
   "cell_type": "code",
   "execution_count": 13,
   "metadata": {},
   "outputs": [],
   "source": [
    "#Design the CNN layers here\n",
    "def cnn_model():\n",
    "    # create model\n",
    "    model = Sequential()\n",
    "    model.add(Conv2D(80, (5, 5), input_shape=(1, 32, 32), activation='relu'  , padding='valid')  )    \n",
    "    model.add(MaxPooling2D(pool_size=(2, 2), padding='valid', strides=2 ))\n",
    "    \n",
    "    model.add(Conv2D(64, (5, 5), activation='relu', padding='valid'))\n",
    "    model.add(BatchNormalization())\n",
    "    model.add(Activation(\"relu\"))\n",
    "    \n",
    "    model.add(MaxPooling2D(pool_size=(2, 2), padding='valid', strides=2 ))\n",
    "    model.add(Flatten())\n",
    "    model.add(Dense(128, activation='relu'))\n",
    "    model.add(Dropout(0.5)) # don't use drop out in CNN Layers\n",
    "    model.add(Dense(num_classes, activation='softmax'))\n",
    "\n",
    "    # Compile model\n",
    "    model.compile(loss='categorical_crossentropy', optimizer='adam', metrics=['accuracy'])\n",
    "    return model\n"
   ]
  },
  {
   "cell_type": "code",
   "execution_count": 14,
   "metadata": {},
   "outputs": [
    {
     "name": "stdout",
     "output_type": "stream",
     "text": [
      "WARNING:tensorflow:From C:\\Users\\dell\\.conda\\envs\\tfp3.6\\lib\\site-packages\\tensorflow\\python\\framework\\op_def_library.py:263: colocate_with (from tensorflow.python.framework.ops) is deprecated and will be removed in a future version.\n",
      "Instructions for updating:\n",
      "Colocations handled automatically by placer.\n",
      "WARNING:tensorflow:From C:\\Users\\dell\\.conda\\envs\\tfp3.6\\lib\\site-packages\\keras\\backend\\tensorflow_backend.py:3445: calling dropout (from tensorflow.python.ops.nn_ops) with keep_prob is deprecated and will be removed in a future version.\n",
      "Instructions for updating:\n",
      "Please use `rate` instead of `keep_prob`. Rate should be set to `rate = 1 - keep_prob`.\n",
      "_________________________________________________________________\n",
      "Layer (type)                 Output Shape              Param #   \n",
      "=================================================================\n",
      "conv2d_1 (Conv2D)            (None, 80, 28, 28)        2080      \n",
      "_________________________________________________________________\n",
      "max_pooling2d_1 (MaxPooling2 (None, 80, 14, 14)        0         \n",
      "_________________________________________________________________\n",
      "conv2d_2 (Conv2D)            (None, 64, 10, 10)        128064    \n",
      "_________________________________________________________________\n",
      "batch_normalization_1 (Batch (None, 64, 10, 10)        40        \n",
      "_________________________________________________________________\n",
      "activation_1 (Activation)    (None, 64, 10, 10)        0         \n",
      "_________________________________________________________________\n",
      "max_pooling2d_2 (MaxPooling2 (None, 64, 5, 5)          0         \n",
      "_________________________________________________________________\n",
      "flatten_1 (Flatten)          (None, 1600)              0         \n",
      "_________________________________________________________________\n",
      "dense_1 (Dense)              (None, 128)               204928    \n",
      "_________________________________________________________________\n",
      "dropout_1 (Dropout)          (None, 128)               0         \n",
      "_________________________________________________________________\n",
      "dense_2 (Dense)              (None, 29)                3741      \n",
      "=================================================================\n",
      "Total params: 338,853\n",
      "Trainable params: 338,833\n",
      "Non-trainable params: 20\n",
      "_________________________________________________________________\n"
     ]
    }
   ],
   "source": [
    "# Compile, fit and validate your model \n",
    "# use 0.1 of the training data only to validate your model accuracy using this function \n",
    "# model.fit(X_train, y_train, validation_split=.1, epochs=10, batch_size=200,shuffle=True, verbose=1)\n",
    "# feel free to change the epochs and batch_size numbers\n",
    "\n",
    "\n",
    "# build the model\n",
    "model = cnn_model()\n",
    "\n",
    "\n",
    "model.summary()\n"
   ]
  },
  {
   "cell_type": "code",
   "execution_count": 15,
   "metadata": {},
   "outputs": [
    {
     "name": "stdout",
     "output_type": "stream",
     "text": [
      "WARNING:tensorflow:From C:\\Users\\dell\\.conda\\envs\\tfp3.6\\lib\\site-packages\\tensorflow\\python\\ops\\math_ops.py:3066: to_int32 (from tensorflow.python.ops.math_ops) is deprecated and will be removed in a future version.\n",
      "Instructions for updating:\n",
      "Use tf.cast instead.\n",
      "Train on 12096 samples, validate on 1344 samples\n",
      "Epoch 1/30\n",
      "12096/12096 [==============================] - 82s 7ms/step - loss: 2.9346 - acc: 0.1537 - val_loss: 2.3103 - val_acc: 0.3646\n",
      "Epoch 2/30\n",
      "12096/12096 [==============================] - 78s 6ms/step - loss: 1.9805 - acc: 0.3713 - val_loss: 1.4331 - val_acc: 0.5781\n",
      "Epoch 3/30\n",
      "12096/12096 [==============================] - 95s 8ms/step - loss: 1.3604 - acc: 0.5437 - val_loss: 0.9315 - val_acc: 0.7195\n",
      "Epoch 4/30\n",
      "12096/12096 [==============================] - 103s 9ms/step - loss: 0.9954 - acc: 0.6670 - val_loss: 0.7069 - val_acc: 0.7738\n",
      "Epoch 5/30\n",
      "12096/12096 [==============================] - 93s 8ms/step - loss: 0.7722 - acc: 0.7402 - val_loss: 0.5581 - val_acc: 0.8251\n",
      "Epoch 6/30\n",
      "12096/12096 [==============================] - 90s 7ms/step - loss: 0.6376 - acc: 0.7864 - val_loss: 0.4973 - val_acc: 0.8341\n",
      "Epoch 7/30\n",
      "12096/12096 [==============================] - 83s 7ms/step - loss: 0.5526 - acc: 0.8169 - val_loss: 0.4416 - val_acc: 0.8482\n",
      "Epoch 8/30\n",
      "12096/12096 [==============================] - 87s 7ms/step - loss: 0.4525 - acc: 0.8488 - val_loss: 0.4283 - val_acc: 0.8571\n",
      "Epoch 9/30\n",
      "12096/12096 [==============================] - 81s 7ms/step - loss: 0.3915 - acc: 0.8697 - val_loss: 0.3750 - val_acc: 0.8824\n",
      "Epoch 10/30\n",
      "12096/12096 [==============================] - 83s 7ms/step - loss: 0.3520 - acc: 0.8813 - val_loss: 0.3907 - val_acc: 0.8713\n",
      "Epoch 11/30\n",
      "12096/12096 [==============================] - 84s 7ms/step - loss: 0.3111 - acc: 0.8954 - val_loss: 0.3332 - val_acc: 0.8810\n",
      "Epoch 12/30\n",
      "12096/12096 [==============================] - 85s 7ms/step - loss: 0.2647 - acc: 0.9129 - val_loss: 0.3473 - val_acc: 0.8906\n",
      "Epoch 13/30\n",
      "12096/12096 [==============================] - 84s 7ms/step - loss: 0.2476 - acc: 0.9148 - val_loss: 0.3355 - val_acc: 0.8936\n",
      "Epoch 14/30\n",
      "12096/12096 [==============================] - 84s 7ms/step - loss: 0.2112 - acc: 0.9290 - val_loss: 0.3236 - val_acc: 0.8936\n",
      "Epoch 15/30\n",
      "12096/12096 [==============================] - 83s 7ms/step - loss: 0.1969 - acc: 0.9360 - val_loss: 0.3039 - val_acc: 0.9077\n",
      "Epoch 16/30\n",
      "12096/12096 [==============================] - 81s 7ms/step - loss: 0.1726 - acc: 0.9432 - val_loss: 0.3284 - val_acc: 0.8988\n",
      "Epoch 17/30\n",
      "12096/12096 [==============================] - 84s 7ms/step - loss: 0.1724 - acc: 0.9416 - val_loss: 0.2954 - val_acc: 0.9152\n",
      "Epoch 18/30\n",
      "12096/12096 [==============================] - 84s 7ms/step - loss: 0.1576 - acc: 0.9486 - val_loss: 0.3141 - val_acc: 0.9033\n",
      "Epoch 19/30\n",
      "12096/12096 [==============================] - 82s 7ms/step - loss: 0.1334 - acc: 0.9546 - val_loss: 0.3101 - val_acc: 0.9025\n",
      "Epoch 20/30\n",
      "12096/12096 [==============================] - 82s 7ms/step - loss: 0.1292 - acc: 0.9590 - val_loss: 0.3444 - val_acc: 0.8996\n",
      "Epoch 21/30\n",
      "12096/12096 [==============================] - 83s 7ms/step - loss: 0.1202 - acc: 0.9606 - val_loss: 0.3355 - val_acc: 0.9092\n",
      "Epoch 22/30\n",
      "12096/12096 [==============================] - 83s 7ms/step - loss: 0.1110 - acc: 0.9623 - val_loss: 0.3075 - val_acc: 0.9085\n",
      "Epoch 23/30\n",
      "12096/12096 [==============================] - 84s 7ms/step - loss: 0.0986 - acc: 0.9666 - val_loss: 0.3620 - val_acc: 0.9048\n",
      "Epoch 24/30\n",
      "12096/12096 [==============================] - 85s 7ms/step - loss: 0.0955 - acc: 0.9669 - val_loss: 0.3483 - val_acc: 0.9048\n",
      "Epoch 25/30\n",
      "12096/12096 [==============================] - 83s 7ms/step - loss: 0.0896 - acc: 0.9696 - val_loss: 0.3590 - val_acc: 0.9040\n",
      "Epoch 26/30\n",
      "12096/12096 [==============================] - 82s 7ms/step - loss: 0.0815 - acc: 0.9736 - val_loss: 0.3170 - val_acc: 0.9137\n",
      "Epoch 27/30\n",
      "12096/12096 [==============================] - 90s 7ms/step - loss: 0.0789 - acc: 0.9727 - val_loss: 0.4228 - val_acc: 0.8958\n",
      "Epoch 28/30\n",
      "12096/12096 [==============================] - 89s 7ms/step - loss: 0.0833 - acc: 0.9722 - val_loss: 0.3767 - val_acc: 0.9025\n",
      "Epoch 29/30\n",
      "12096/12096 [==============================] - 90s 7ms/step - loss: 0.0686 - acc: 0.9765 - val_loss: 0.3596 - val_acc: 0.9100\n",
      "Epoch 30/30\n",
      "12096/12096 [==============================] - 83s 7ms/step - loss: 0.0701 - acc: 0.9770 - val_loss: 0.3570 - val_acc: 0.9092\n"
     ]
    }
   ],
   "source": [
    "\n",
    "# Fit the model\n",
    "history = model.fit(x_train, y_train, validation_split=.1, epochs=30, batch_size=300, verbose=1)\n"
   ]
  },
  {
   "cell_type": "markdown",
   "metadata": {},
   "source": [
    "## Visualize the train and validation Error Curves"
   ]
  },
  {
   "cell_type": "code",
   "execution_count": 16,
   "metadata": {},
   "outputs": [
    {
     "data": {
      "image/png": "[encoded data removed]",
      "text/plain": [
       "<Figure size 432x288 with 1 Axes>"
      ]
     },
     "metadata": {
      "needs_background": "light"
     },
     "output_type": "display_data"
    },
    {
     "data": {
      "image/png": "[encoded data removed]",
      "text/plain": [
       "<Figure size 432x288 with 1 Axes>"
      ]
     },
     "metadata": {
      "needs_background": "light"
     },
     "output_type": "display_data"
    }
   ],
   "source": [
    "\n",
    "plt.plot(history.history['acc'])\n",
    "plt.plot(history.history['val_acc'])\n",
    "plt.title('Model accuracy')\n",
    "plt.ylabel('Accuracy')\n",
    "plt.xlabel('Epoch')\n",
    "plt.legend(['Train', 'Test'], loc='upper left')\n",
    "plt.show()\n",
    "\n",
    "# Plot training & validation loss values\n",
    "plt.plot(history.history['loss'])\n",
    "plt.plot(history.history['val_loss'])\n",
    "plt.title('Model loss')\n",
    "plt.ylabel('Loss')\n",
    "plt.xlabel('Epoch')\n",
    "plt.legend(['Train', 'Test'], loc='upper left')\n",
    "plt.show()"
   ]
  },
  {
   "cell_type": "markdown",
   "metadata": {},
   "source": [
    "## ِApply Early Stopping, stop training at epoch no 10"
   ]
  },
  {
   "cell_type": "code",
   "execution_count": 358,
   "metadata": {},
   "outputs": [
    {
     "name": "stdout",
     "output_type": "stream",
     "text": [
      "Train on 12096 samples, validate on 1344 samples\n",
      "Epoch 1/10\n",
      "12096/12096 [==============================] - 89s 7ms/step - loss: 3.0252 - acc: 0.1441 - val_loss: 2.3753 - val_acc: 0.3155\n",
      "Epoch 2/10\n",
      "12096/12096 [==============================] - 85s 7ms/step - loss: 2.0376 - acc: 0.3657 - val_loss: 1.4283 - val_acc: 0.6034\n",
      "Epoch 3/10\n",
      "12096/12096 [==============================] - 88s 7ms/step - loss: 1.3754 - acc: 0.5481 - val_loss: 0.9265 - val_acc: 0.7113\n",
      "Epoch 4/10\n",
      "12096/12096 [==============================] - 92s 8ms/step - loss: 0.9903 - acc: 0.6644 - val_loss: 0.6952 - val_acc: 0.7827\n",
      "Epoch 5/10\n",
      "12096/12096 [==============================] - 83s 7ms/step - loss: 0.7459 - acc: 0.7479 - val_loss: 0.5526 - val_acc: 0.8207\n",
      "Epoch 6/10\n",
      "12096/12096 [==============================] - 84s 7ms/step - loss: 0.6055 - acc: 0.7970 - val_loss: 0.4440 - val_acc: 0.8646\n",
      "Epoch 7/10\n",
      "12096/12096 [==============================] - 84s 7ms/step - loss: 0.4975 - acc: 0.8303 - val_loss: 0.4335 - val_acc: 0.8571\n",
      "Epoch 8/10\n",
      "12096/12096 [==============================] - 90s 7ms/step - loss: 0.4091 - acc: 0.8660 - val_loss: 0.3988 - val_acc: 0.8705\n",
      "Epoch 9/10\n",
      "12096/12096 [==============================] - 88s 7ms/step - loss: 0.3480 - acc: 0.8819 - val_loss: 0.3474 - val_acc: 0.8854\n",
      "Epoch 10/10\n",
      "12096/12096 [==============================] - 86s 7ms/step - loss: 0.2985 - acc: 0.8985 - val_loss: 0.3158 - val_acc: 0.8876\n"
     ]
    }
   ],
   "source": [
    "# Re build the model\n",
    "model = cnn_model()\n",
    "\n",
    "# Fit the model again\n",
    "history = model.fit(x_train, y_train, validation_split=.1, epochs=10, batch_size=300, verbose=1)\n"
   ]
  },
  {
   "cell_type": "code",
   "execution_count": 234,
   "metadata": {},
   "outputs": [
    {
     "name": "stdout",
     "output_type": "stream",
     "text": [
      "CNN Error Rate: 8.10%\n"
     ]
    }
   ],
   "source": [
    "\n",
    "scores = model.evaluate(x_test, y_test, verbose=0)\n",
    "print(\"CNN Error Rate: %.2f%%\" % (100 - scores[1]*100))\n",
    "\n",
    "# We will compare the three arch with the validation accuracy \n",
    "# name our jupyter file with your first name under score mode\n",
    "# Y_model -> Youssef\n",
    "# N_model -> Nabeil\n",
    "# M_model -> Menna\n",
    "\n",
    "# create a branch with your name and push on it\n",
    "\n",
    "# >>>>>>>>>>>>> Don't measure your performance on the test data to avoid overfitting  <<<<<<<<<<<<<<<<<<<<\n",
    "\n",
    "# after choosing the best Arch we will measure it's performance on the test set\n"
   ]
  },
  {
   "cell_type": "markdown",
   "metadata": {},
   "source": [
    "## Predict some images with our model and check there correct label"
   ]
  },
  {
   "cell_type": "code",
   "execution_count": 44,
   "metadata": {},
   "outputs": [
    {
     "data": {
      "text/plain": [
       "(1, 1, 32, 32)"
      ]
     },
     "execution_count": 44,
     "metadata": {},
     "output_type": "execute_result"
    }
   ],
   "source": [
    "x_test[index:index+1].shape"
   ]
  },
  {
   "cell_type": "code",
   "execution_count": 78,
   "metadata": {},
   "outputs": [
    {
     "name": "stdout",
     "output_type": "stream",
     "text": [
      "[16]\n"
     ]
    },
    {
     "data": {
      "image/png": "[encoded data removed]",
      "text/plain": [
       "<Figure size 432x288 with 1 Axes>"
      ]
     },
     "metadata": {
      "needs_background": "light"
     },
     "output_type": "display_data"
    }
   ],
   "source": [
    "index = 30 # of the sample to be tested\n",
    "\n",
    "y = model.predict_classes(x_test[index:index+1])\n",
    "plt.imshow(x_test_img[index], cmap=plt.get_cmap('gray'))\n",
    "print(y)"
   ]
  },
  {
   "cell_type": "markdown",
   "metadata": {},
   "source": [
    "## Save the model weights"
   ]
  },
  {
   "cell_type": "code",
   "execution_count": 116,
   "metadata": {},
   "outputs": [
    {
     "name": "stdout",
     "output_type": "stream",
     "text": [
      "Saved model to disk\n"
     ]
    }
   ],
   "source": [
    "# serialize model to JSON\n",
    "model_json = model.to_json()\n",
    "with open(\"model.json\", \"w\") as json_file:\n",
    "    json_file.write(model_json)\n",
    "# serialize weights to HDF5\n",
    "model.save_weights(\"model.h5\")\n",
    "print(\"Saved model to disk\")"
   ]
  },
  {
   "cell_type": "markdown",
   "metadata": {},
   "source": [
    "## Start running cells from here "
   ]
  },
  {
   "cell_type": "code",
   "execution_count": 287,
   "metadata": {},
   "outputs": [
    {
     "name": "stdout",
     "output_type": "stream",
     "text": [
      "Loaded model from disk\n"
     ]
    }
   ],
   "source": [
    " \n",
    "# load json and create model\n",
    "json_file = open('model.json', 'r')\n",
    "loaded_model_json = json_file.read()\n",
    "json_file.close()\n",
    "loaded_model = model_from_json(loaded_model_json)\n",
    "# load weights into new model\n",
    "loaded_model.load_weights(\"model.h5\")\n",
    "print(\"Loaded model from disk\")"
   ]
  },
  {
   "cell_type": "code",
   "execution_count": 379,
   "metadata": {},
   "outputs": [
    {
     "data": {
      "text/plain": [
       "<matplotlib.image.AxesImage at 0x22687eac358>"
      ]
     },
     "execution_count": 379,
     "metadata": {},
     "output_type": "execute_result"
    },
    {
     "data": {
      "image/png": "[encoded data removed]",
      "text/plain": [
       "<Figure size 432x288 with 1 Axes>"
      ]
     },
     "metadata": {
      "needs_background": "light"
     },
     "output_type": "display_data"
    }
   ],
   "source": [
    "img = cv2.imread('10.png',1)\n",
    "\n",
    "# Convert to Gray\n",
    "img = cv2.cvtColor(img, cv2.COLOR_BGR2GRAY)\n",
    "\n",
    "# resize image\n",
    "resized = cv2.resize(img, (32,32), interpolation = cv2.INTER_AREA)\n",
    "\n",
    "plt.imshow(resized, cmap=plt.get_cmap('gray'))\n"
   ]
  },
  {
   "cell_type": "code",
   "execution_count": 380,
   "metadata": {},
   "outputs": [
    {
     "data": {
      "text/plain": [
       "<matplotlib.image.AxesImage at 0x22687f076d8>"
      ]
     },
     "execution_count": 380,
     "metadata": {},
     "output_type": "execute_result"
    },
    {
     "data": {
      "image/png": "[encoded data removed]",
      "text/plain": [
       "<Figure size 432x288 with 1 Axes>"
      ]
     },
     "metadata": {
      "needs_background": "light"
     },
     "output_type": "display_data"
    }
   ],
   "source": [
    "#pre-processing\n",
    "\n",
    "#square_kernal=np.ones((2,2),np.uint8)\n",
    "\n",
    "#test_youssef = cv2.adaptiveThreshold(resized,255,cv2.ADAPTIVE_THRESH_GAUSSIAN_C,cv2.THRESH_BINARY_INV,3,2)\n",
    "\n",
    "#test_youssef = cv2.erode(test_youssef,square_kernal,iterations = 1)\n",
    "#plt.imshow(test_youssef, cmap=plt.get_cmap('gray'))\n",
    "\n",
    "\n",
    "# This part to convert background to black only\n",
    "new = np.invert(resized)\n",
    "mask = new > (120)\n",
    "test_youssef = new * mask\n",
    "\n",
    "plt.imshow(test_youssef, cmap=plt.get_cmap('gray'))\n"
   ]
  },
  {
   "cell_type": "code",
   "execution_count": 381,
   "metadata": {},
   "outputs": [
    {
     "name": "stdout",
     "output_type": "stream",
     "text": [
      "[2]\n"
     ]
    }
   ],
   "source": [
    "test_youssef = test_youssef.reshape(1,1, 32, 32).astype('float32')\n",
    "x = model.predict_classes(test_youssef)\n",
    "print(x)"
   ]
  },
  {
   "cell_type": "code",
   "execution_count": null,
   "metadata": {},
   "outputs": [],
   "source": []
  }
 ],
 "metadata": {
  "kernelspec": {
   "display_name": "Python 3",
   "language": "python",
   "name": "python3"
  },
  "language_info": {
   "codemirror_mode": {
    "name": "ipython",
    "version": 3
   },
   "file_extension": ".py",
   "mimetype": "text/x-python",
   "name": "python",
   "nbconvert_exporter": "python",
   "pygments_lexer": "ipython3",
   "version": "3.6.8"
  }
 },
 "nbformat": 4,
 "nbformat_minor": 2
}
